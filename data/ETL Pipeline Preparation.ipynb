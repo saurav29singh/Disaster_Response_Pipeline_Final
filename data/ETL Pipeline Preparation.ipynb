{
 "cells": [
  {
   "cell_type": "markdown",
   "metadata": {
    "pycharm": {
     "name": "#%% md\n"
    }
   },
   "source": [
    "# ETL Pipeline Preparation\n",
    "Follow the instructions below to help you create your ETL pipeline.\n",
    "### 1. Import libraries and load datasets.\n",
    "- Import Python libraries\n",
    "- Load `messages.csv` into a dataframe and inspect the first few lines.\n",
    "- Load `categories.csv` into a dataframe and inspect the first few lines."
   ]
  },
  {
   "cell_type": "code",
   "execution_count": 50,
   "metadata": {
    "pycharm": {
     "name": "#%%\n"
    }
   },
   "outputs": [],
   "source": [
    "# import libraries\n",
    "import numpy as np\n",
    "import pandas as pd\n",
    "from sqlalchemy import create_engine"
   ]
  },
  {
   "cell_type": "code",
   "execution_count": 51,
   "metadata": {
    "pycharm": {
     "name": "#%%\n"
    }
   },
   "outputs": [
    {
     "data": {
      "text/plain": "   id                                            message  \\\n0   2  Weather update - a cold front from Cuba that c...   \n1   7            Is the Hurricane over or is it not over   \n2   8                    Looking for someone but no name   \n3   9  UN reports Leogane 80-90 destroyed. Only Hospi...   \n4  12  says: west side of Haiti, rest of the country ...   \n\n                                            original   genre  \n0  Un front froid se retrouve sur Cuba ce matin. ...  direct  \n1                 Cyclone nan fini osinon li pa fini  direct  \n2  Patnm, di Maryani relem pou li banm nouvel li ...  direct  \n3  UN reports Leogane 80-90 destroyed. Only Hospi...  direct  \n4  facade ouest d Haiti et le reste du pays aujou...  direct  ",
      "text/html": "<div>\n<style scoped>\n    .dataframe tbody tr th:only-of-type {\n        vertical-align: middle;\n    }\n\n    .dataframe tbody tr th {\n        vertical-align: top;\n    }\n\n    .dataframe thead th {\n        text-align: right;\n    }\n</style>\n<table border=\"1\" class=\"dataframe\">\n  <thead>\n    <tr style=\"text-align: right;\">\n      <th></th>\n      <th>id</th>\n      <th>message</th>\n      <th>original</th>\n      <th>genre</th>\n    </tr>\n  </thead>\n  <tbody>\n    <tr>\n      <th>0</th>\n      <td>2</td>\n      <td>Weather update - a cold front from Cuba that c...</td>\n      <td>Un front froid se retrouve sur Cuba ce matin. ...</td>\n      <td>direct</td>\n    </tr>\n    <tr>\n      <th>1</th>\n      <td>7</td>\n      <td>Is the Hurricane over or is it not over</td>\n      <td>Cyclone nan fini osinon li pa fini</td>\n      <td>direct</td>\n    </tr>\n    <tr>\n      <th>2</th>\n      <td>8</td>\n      <td>Looking for someone but no name</td>\n      <td>Patnm, di Maryani relem pou li banm nouvel li ...</td>\n      <td>direct</td>\n    </tr>\n    <tr>\n      <th>3</th>\n      <td>9</td>\n      <td>UN reports Leogane 80-90 destroyed. Only Hospi...</td>\n      <td>UN reports Leogane 80-90 destroyed. Only Hospi...</td>\n      <td>direct</td>\n    </tr>\n    <tr>\n      <th>4</th>\n      <td>12</td>\n      <td>says: west side of Haiti, rest of the country ...</td>\n      <td>facade ouest d Haiti et le reste du pays aujou...</td>\n      <td>direct</td>\n    </tr>\n  </tbody>\n</table>\n</div>"
     },
     "execution_count": 51,
     "metadata": {},
     "output_type": "execute_result"
    }
   ],
   "source": [
    "# load disaster_messages dataset\n",
    "messages = pd.read_csv('disaster_messages.csv')\n",
    "messages.head()"
   ]
  },
  {
   "cell_type": "code",
   "execution_count": 52,
   "metadata": {
    "pycharm": {
     "name": "#%%\n"
    }
   },
   "outputs": [
    {
     "data": {
      "text/plain": "   id                                         categories\n0   2  related-1;request-0;offer-0;aid_related-0;medi...\n1   7  related-1;request-0;offer-0;aid_related-1;medi...\n2   8  related-1;request-0;offer-0;aid_related-0;medi...\n3   9  related-1;request-1;offer-0;aid_related-1;medi...\n4  12  related-1;request-0;offer-0;aid_related-0;medi...",
      "text/html": "<div>\n<style scoped>\n    .dataframe tbody tr th:only-of-type {\n        vertical-align: middle;\n    }\n\n    .dataframe tbody tr th {\n        vertical-align: top;\n    }\n\n    .dataframe thead th {\n        text-align: right;\n    }\n</style>\n<table border=\"1\" class=\"dataframe\">\n  <thead>\n    <tr style=\"text-align: right;\">\n      <th></th>\n      <th>id</th>\n      <th>categories</th>\n    </tr>\n  </thead>\n  <tbody>\n    <tr>\n      <th>0</th>\n      <td>2</td>\n      <td>related-1;request-0;offer-0;aid_related-0;medi...</td>\n    </tr>\n    <tr>\n      <th>1</th>\n      <td>7</td>\n      <td>related-1;request-0;offer-0;aid_related-1;medi...</td>\n    </tr>\n    <tr>\n      <th>2</th>\n      <td>8</td>\n      <td>related-1;request-0;offer-0;aid_related-0;medi...</td>\n    </tr>\n    <tr>\n      <th>3</th>\n      <td>9</td>\n      <td>related-1;request-1;offer-0;aid_related-1;medi...</td>\n    </tr>\n    <tr>\n      <th>4</th>\n      <td>12</td>\n      <td>related-1;request-0;offer-0;aid_related-0;medi...</td>\n    </tr>\n  </tbody>\n</table>\n</div>"
     },
     "execution_count": 52,
     "metadata": {},
     "output_type": "execute_result"
    }
   ],
   "source": [
    "# load disaster_categories dataset\n",
    "categories = pd.read_csv('disaster_categories.csv')\n",
    "categories.head()"
   ]
  },
  {
   "cell_type": "markdown",
   "metadata": {
    "pycharm": {
     "name": "#%% md\n"
    }
   },
   "source": [
    "### 2. Merge datasets.\n",
    "- Merge the messages and categories datasets using the common id\n",
    "- Assign this combined dataset to `df`, which will be cleaned in the following steps"
   ]
  },
  {
   "cell_type": "code",
   "execution_count": 53,
   "metadata": {
    "pycharm": {
     "name": "#%%\n"
    }
   },
   "outputs": [
    {
     "data": {
      "text/plain": "   id                                            message  \\\n0   2  Weather update - a cold front from Cuba that c...   \n1   7            Is the Hurricane over or is it not over   \n2   8                    Looking for someone but no name   \n3   9  UN reports Leogane 80-90 destroyed. Only Hospi...   \n4  12  says: west side of Haiti, rest of the country ...   \n\n                                            original   genre  \\\n0  Un front froid se retrouve sur Cuba ce matin. ...  direct   \n1                 Cyclone nan fini osinon li pa fini  direct   \n2  Patnm, di Maryani relem pou li banm nouvel li ...  direct   \n3  UN reports Leogane 80-90 destroyed. Only Hospi...  direct   \n4  facade ouest d Haiti et le reste du pays aujou...  direct   \n\n                                          categories  \n0  related-1;request-0;offer-0;aid_related-0;medi...  \n1  related-1;request-0;offer-0;aid_related-1;medi...  \n2  related-1;request-0;offer-0;aid_related-0;medi...  \n3  related-1;request-1;offer-0;aid_related-1;medi...  \n4  related-1;request-0;offer-0;aid_related-0;medi...  ",
      "text/html": "<div>\n<style scoped>\n    .dataframe tbody tr th:only-of-type {\n        vertical-align: middle;\n    }\n\n    .dataframe tbody tr th {\n        vertical-align: top;\n    }\n\n    .dataframe thead th {\n        text-align: right;\n    }\n</style>\n<table border=\"1\" class=\"dataframe\">\n  <thead>\n    <tr style=\"text-align: right;\">\n      <th></th>\n      <th>id</th>\n      <th>message</th>\n      <th>original</th>\n      <th>genre</th>\n      <th>categories</th>\n    </tr>\n  </thead>\n  <tbody>\n    <tr>\n      <th>0</th>\n      <td>2</td>\n      <td>Weather update - a cold front from Cuba that c...</td>\n      <td>Un front froid se retrouve sur Cuba ce matin. ...</td>\n      <td>direct</td>\n      <td>related-1;request-0;offer-0;aid_related-0;medi...</td>\n    </tr>\n    <tr>\n      <th>1</th>\n      <td>7</td>\n      <td>Is the Hurricane over or is it not over</td>\n      <td>Cyclone nan fini osinon li pa fini</td>\n      <td>direct</td>\n      <td>related-1;request-0;offer-0;aid_related-1;medi...</td>\n    </tr>\n    <tr>\n      <th>2</th>\n      <td>8</td>\n      <td>Looking for someone but no name</td>\n      <td>Patnm, di Maryani relem pou li banm nouvel li ...</td>\n      <td>direct</td>\n      <td>related-1;request-0;offer-0;aid_related-0;medi...</td>\n    </tr>\n    <tr>\n      <th>3</th>\n      <td>9</td>\n      <td>UN reports Leogane 80-90 destroyed. Only Hospi...</td>\n      <td>UN reports Leogane 80-90 destroyed. Only Hospi...</td>\n      <td>direct</td>\n      <td>related-1;request-1;offer-0;aid_related-1;medi...</td>\n    </tr>\n    <tr>\n      <th>4</th>\n      <td>12</td>\n      <td>says: west side of Haiti, rest of the country ...</td>\n      <td>facade ouest d Haiti et le reste du pays aujou...</td>\n      <td>direct</td>\n      <td>related-1;request-0;offer-0;aid_related-0;medi...</td>\n    </tr>\n  </tbody>\n</table>\n</div>"
     },
     "execution_count": 53,
     "metadata": {},
     "output_type": "execute_result"
    }
   ],
   "source": [
    "# merge datasets\n",
    "df = pd.merge(messages,categories,on='id')\n",
    "df.head()"
   ]
  },
  {
   "cell_type": "markdown",
   "metadata": {
    "pycharm": {
     "name": "#%% md\n"
    }
   },
   "source": [
    "### 3. Split `categories` into separate category columns.\n",
    "- Split the values in the `categories` column on the `;` character so that each value becomes a separate column. You'll find [this method](https://pandas.pydata.org/pandas-docs/version/0.23/generated/pandas.Series.str.split.html) very helpful! Make sure to set `expand=True`.\n",
    "- Use the first row of categories dataframe to create column names for the categories data.\n",
    "- Rename columns of `categories` with new column names."
   ]
  },
  {
   "cell_type": "code",
   "execution_count": 54,
   "metadata": {
    "pycharm": {
     "name": "#%%\n"
    }
   },
   "outputs": [
    {
     "data": {
      "text/plain": "          0          1        2              3               4   \\\n0  related-1  request-0  offer-0  aid_related-0  medical_help-0   \n1  related-1  request-0  offer-0  aid_related-1  medical_help-0   \n2  related-1  request-0  offer-0  aid_related-0  medical_help-0   \n3  related-1  request-1  offer-0  aid_related-1  medical_help-0   \n4  related-1  request-0  offer-0  aid_related-0  medical_help-0   \n\n                   5                    6           7           8   \\\n0  medical_products-0  search_and_rescue-0  security-0  military-0   \n1  medical_products-0  search_and_rescue-0  security-0  military-0   \n2  medical_products-0  search_and_rescue-0  security-0  military-0   \n3  medical_products-1  search_and_rescue-0  security-0  military-0   \n4  medical_products-0  search_and_rescue-0  security-0  military-0   \n\n              9   ...             26                      27  \\\n0  child_alone-0  ...  aid_centers-0  other_infrastructure-0   \n1  child_alone-0  ...  aid_centers-0  other_infrastructure-0   \n2  child_alone-0  ...  aid_centers-0  other_infrastructure-0   \n3  child_alone-0  ...  aid_centers-0  other_infrastructure-0   \n4  child_alone-0  ...  aid_centers-0  other_infrastructure-0   \n\n                  28        29       30      31            32      33  \\\n0  weather_related-0  floods-0  storm-0  fire-0  earthquake-0  cold-0   \n1  weather_related-1  floods-0  storm-1  fire-0  earthquake-0  cold-0   \n2  weather_related-0  floods-0  storm-0  fire-0  earthquake-0  cold-0   \n3  weather_related-0  floods-0  storm-0  fire-0  earthquake-0  cold-0   \n4  weather_related-0  floods-0  storm-0  fire-0  earthquake-0  cold-0   \n\n                34               35  \n0  other_weather-0  direct_report-0  \n1  other_weather-0  direct_report-0  \n2  other_weather-0  direct_report-0  \n3  other_weather-0  direct_report-0  \n4  other_weather-0  direct_report-0  \n\n[5 rows x 36 columns]",
      "text/html": "<div>\n<style scoped>\n    .dataframe tbody tr th:only-of-type {\n        vertical-align: middle;\n    }\n\n    .dataframe tbody tr th {\n        vertical-align: top;\n    }\n\n    .dataframe thead th {\n        text-align: right;\n    }\n</style>\n<table border=\"1\" class=\"dataframe\">\n  <thead>\n    <tr style=\"text-align: right;\">\n      <th></th>\n      <th>0</th>\n      <th>1</th>\n      <th>2</th>\n      <th>3</th>\n      <th>4</th>\n      <th>5</th>\n      <th>6</th>\n      <th>7</th>\n      <th>8</th>\n      <th>9</th>\n      <th>...</th>\n      <th>26</th>\n      <th>27</th>\n      <th>28</th>\n      <th>29</th>\n      <th>30</th>\n      <th>31</th>\n      <th>32</th>\n      <th>33</th>\n      <th>34</th>\n      <th>35</th>\n    </tr>\n  </thead>\n  <tbody>\n    <tr>\n      <th>0</th>\n      <td>related-1</td>\n      <td>request-0</td>\n      <td>offer-0</td>\n      <td>aid_related-0</td>\n      <td>medical_help-0</td>\n      <td>medical_products-0</td>\n      <td>search_and_rescue-0</td>\n      <td>security-0</td>\n      <td>military-0</td>\n      <td>child_alone-0</td>\n      <td>...</td>\n      <td>aid_centers-0</td>\n      <td>other_infrastructure-0</td>\n      <td>weather_related-0</td>\n      <td>floods-0</td>\n      <td>storm-0</td>\n      <td>fire-0</td>\n      <td>earthquake-0</td>\n      <td>cold-0</td>\n      <td>other_weather-0</td>\n      <td>direct_report-0</td>\n    </tr>\n    <tr>\n      <th>1</th>\n      <td>related-1</td>\n      <td>request-0</td>\n      <td>offer-0</td>\n      <td>aid_related-1</td>\n      <td>medical_help-0</td>\n      <td>medical_products-0</td>\n      <td>search_and_rescue-0</td>\n      <td>security-0</td>\n      <td>military-0</td>\n      <td>child_alone-0</td>\n      <td>...</td>\n      <td>aid_centers-0</td>\n      <td>other_infrastructure-0</td>\n      <td>weather_related-1</td>\n      <td>floods-0</td>\n      <td>storm-1</td>\n      <td>fire-0</td>\n      <td>earthquake-0</td>\n      <td>cold-0</td>\n      <td>other_weather-0</td>\n      <td>direct_report-0</td>\n    </tr>\n    <tr>\n      <th>2</th>\n      <td>related-1</td>\n      <td>request-0</td>\n      <td>offer-0</td>\n      <td>aid_related-0</td>\n      <td>medical_help-0</td>\n      <td>medical_products-0</td>\n      <td>search_and_rescue-0</td>\n      <td>security-0</td>\n      <td>military-0</td>\n      <td>child_alone-0</td>\n      <td>...</td>\n      <td>aid_centers-0</td>\n      <td>other_infrastructure-0</td>\n      <td>weather_related-0</td>\n      <td>floods-0</td>\n      <td>storm-0</td>\n      <td>fire-0</td>\n      <td>earthquake-0</td>\n      <td>cold-0</td>\n      <td>other_weather-0</td>\n      <td>direct_report-0</td>\n    </tr>\n    <tr>\n      <th>3</th>\n      <td>related-1</td>\n      <td>request-1</td>\n      <td>offer-0</td>\n      <td>aid_related-1</td>\n      <td>medical_help-0</td>\n      <td>medical_products-1</td>\n      <td>search_and_rescue-0</td>\n      <td>security-0</td>\n      <td>military-0</td>\n      <td>child_alone-0</td>\n      <td>...</td>\n      <td>aid_centers-0</td>\n      <td>other_infrastructure-0</td>\n      <td>weather_related-0</td>\n      <td>floods-0</td>\n      <td>storm-0</td>\n      <td>fire-0</td>\n      <td>earthquake-0</td>\n      <td>cold-0</td>\n      <td>other_weather-0</td>\n      <td>direct_report-0</td>\n    </tr>\n    <tr>\n      <th>4</th>\n      <td>related-1</td>\n      <td>request-0</td>\n      <td>offer-0</td>\n      <td>aid_related-0</td>\n      <td>medical_help-0</td>\n      <td>medical_products-0</td>\n      <td>search_and_rescue-0</td>\n      <td>security-0</td>\n      <td>military-0</td>\n      <td>child_alone-0</td>\n      <td>...</td>\n      <td>aid_centers-0</td>\n      <td>other_infrastructure-0</td>\n      <td>weather_related-0</td>\n      <td>floods-0</td>\n      <td>storm-0</td>\n      <td>fire-0</td>\n      <td>earthquake-0</td>\n      <td>cold-0</td>\n      <td>other_weather-0</td>\n      <td>direct_report-0</td>\n    </tr>\n  </tbody>\n</table>\n<p>5 rows × 36 columns</p>\n</div>"
     },
     "execution_count": 54,
     "metadata": {},
     "output_type": "execute_result"
    }
   ],
   "source": [
    "# create a dataframe of the 36 individual category columns\n",
    "categories = df.categories.str.split(pat=';',expand=True)\n",
    "categories.head()"
   ]
  },
  {
   "cell_type": "code",
   "execution_count": 55,
   "metadata": {
    "pycharm": {
     "name": "#%%\n"
    }
   },
   "outputs": [
    {
     "name": "stdout",
     "output_type": "stream",
     "text": [
      "0                    related\n",
      "1                    request\n",
      "2                      offer\n",
      "3                aid_related\n",
      "4               medical_help\n",
      "5           medical_products\n",
      "6          search_and_rescue\n",
      "7                   security\n",
      "8                   military\n",
      "9                child_alone\n",
      "10                     water\n",
      "11                      food\n",
      "12                   shelter\n",
      "13                  clothing\n",
      "14                     money\n",
      "15            missing_people\n",
      "16                  refugees\n",
      "17                     death\n",
      "18                 other_aid\n",
      "19    infrastructure_related\n",
      "20                 transport\n",
      "21                 buildings\n",
      "22               electricity\n",
      "23                     tools\n",
      "24                 hospitals\n",
      "25                     shops\n",
      "26               aid_centers\n",
      "27      other_infrastructure\n",
      "28           weather_related\n",
      "29                    floods\n",
      "30                     storm\n",
      "31                      fire\n",
      "32                earthquake\n",
      "33                      cold\n",
      "34             other_weather\n",
      "35             direct_report\n",
      "Name: 0, dtype: object\n"
     ]
    }
   ],
   "source": [
    "# select the first row of the categories dataframe\n",
    "row = categories.iloc[0,:]\n",
    "\n",
    "# use this row to extract a list of new column names for categories.\n",
    "# one way is to apply a lambda function that takes everything \n",
    "# up to the second to last character of each string with slicing\n",
    "category_colnames = row.apply(lambda x:x[:-2])\n",
    "print(category_colnames)"
   ]
  },
  {
   "cell_type": "code",
   "execution_count": 56,
   "metadata": {
    "pycharm": {
     "name": "#%%\n"
    }
   },
   "outputs": [
    {
     "data": {
      "text/plain": "0    related    request    offer    aid_related    medical_help  \\\n0  related-1  request-0  offer-0  aid_related-0  medical_help-0   \n1  related-1  request-0  offer-0  aid_related-1  medical_help-0   \n2  related-1  request-0  offer-0  aid_related-0  medical_help-0   \n3  related-1  request-1  offer-0  aid_related-1  medical_help-0   \n4  related-1  request-0  offer-0  aid_related-0  medical_help-0   \n\n0    medical_products    search_and_rescue    security    military  \\\n0  medical_products-0  search_and_rescue-0  security-0  military-0   \n1  medical_products-0  search_and_rescue-0  security-0  military-0   \n2  medical_products-0  search_and_rescue-0  security-0  military-0   \n3  medical_products-1  search_and_rescue-0  security-0  military-0   \n4  medical_products-0  search_and_rescue-0  security-0  military-0   \n\n0    child_alone  ...    aid_centers    other_infrastructure  \\\n0  child_alone-0  ...  aid_centers-0  other_infrastructure-0   \n1  child_alone-0  ...  aid_centers-0  other_infrastructure-0   \n2  child_alone-0  ...  aid_centers-0  other_infrastructure-0   \n3  child_alone-0  ...  aid_centers-0  other_infrastructure-0   \n4  child_alone-0  ...  aid_centers-0  other_infrastructure-0   \n\n0    weather_related    floods    storm    fire    earthquake    cold  \\\n0  weather_related-0  floods-0  storm-0  fire-0  earthquake-0  cold-0   \n1  weather_related-1  floods-0  storm-1  fire-0  earthquake-0  cold-0   \n2  weather_related-0  floods-0  storm-0  fire-0  earthquake-0  cold-0   \n3  weather_related-0  floods-0  storm-0  fire-0  earthquake-0  cold-0   \n4  weather_related-0  floods-0  storm-0  fire-0  earthquake-0  cold-0   \n\n0    other_weather    direct_report  \n0  other_weather-0  direct_report-0  \n1  other_weather-0  direct_report-0  \n2  other_weather-0  direct_report-0  \n3  other_weather-0  direct_report-0  \n4  other_weather-0  direct_report-0  \n\n[5 rows x 36 columns]",
      "text/html": "<div>\n<style scoped>\n    .dataframe tbody tr th:only-of-type {\n        vertical-align: middle;\n    }\n\n    .dataframe tbody tr th {\n        vertical-align: top;\n    }\n\n    .dataframe thead th {\n        text-align: right;\n    }\n</style>\n<table border=\"1\" class=\"dataframe\">\n  <thead>\n    <tr style=\"text-align: right;\">\n      <th></th>\n      <th>related</th>\n      <th>request</th>\n      <th>offer</th>\n      <th>aid_related</th>\n      <th>medical_help</th>\n      <th>medical_products</th>\n      <th>search_and_rescue</th>\n      <th>security</th>\n      <th>military</th>\n      <th>child_alone</th>\n      <th>...</th>\n      <th>aid_centers</th>\n      <th>other_infrastructure</th>\n      <th>weather_related</th>\n      <th>floods</th>\n      <th>storm</th>\n      <th>fire</th>\n      <th>earthquake</th>\n      <th>cold</th>\n      <th>other_weather</th>\n      <th>direct_report</th>\n    </tr>\n  </thead>\n  <tbody>\n    <tr>\n      <th>0</th>\n      <td>related-1</td>\n      <td>request-0</td>\n      <td>offer-0</td>\n      <td>aid_related-0</td>\n      <td>medical_help-0</td>\n      <td>medical_products-0</td>\n      <td>search_and_rescue-0</td>\n      <td>security-0</td>\n      <td>military-0</td>\n      <td>child_alone-0</td>\n      <td>...</td>\n      <td>aid_centers-0</td>\n      <td>other_infrastructure-0</td>\n      <td>weather_related-0</td>\n      <td>floods-0</td>\n      <td>storm-0</td>\n      <td>fire-0</td>\n      <td>earthquake-0</td>\n      <td>cold-0</td>\n      <td>other_weather-0</td>\n      <td>direct_report-0</td>\n    </tr>\n    <tr>\n      <th>1</th>\n      <td>related-1</td>\n      <td>request-0</td>\n      <td>offer-0</td>\n      <td>aid_related-1</td>\n      <td>medical_help-0</td>\n      <td>medical_products-0</td>\n      <td>search_and_rescue-0</td>\n      <td>security-0</td>\n      <td>military-0</td>\n      <td>child_alone-0</td>\n      <td>...</td>\n      <td>aid_centers-0</td>\n      <td>other_infrastructure-0</td>\n      <td>weather_related-1</td>\n      <td>floods-0</td>\n      <td>storm-1</td>\n      <td>fire-0</td>\n      <td>earthquake-0</td>\n      <td>cold-0</td>\n      <td>other_weather-0</td>\n      <td>direct_report-0</td>\n    </tr>\n    <tr>\n      <th>2</th>\n      <td>related-1</td>\n      <td>request-0</td>\n      <td>offer-0</td>\n      <td>aid_related-0</td>\n      <td>medical_help-0</td>\n      <td>medical_products-0</td>\n      <td>search_and_rescue-0</td>\n      <td>security-0</td>\n      <td>military-0</td>\n      <td>child_alone-0</td>\n      <td>...</td>\n      <td>aid_centers-0</td>\n      <td>other_infrastructure-0</td>\n      <td>weather_related-0</td>\n      <td>floods-0</td>\n      <td>storm-0</td>\n      <td>fire-0</td>\n      <td>earthquake-0</td>\n      <td>cold-0</td>\n      <td>other_weather-0</td>\n      <td>direct_report-0</td>\n    </tr>\n    <tr>\n      <th>3</th>\n      <td>related-1</td>\n      <td>request-1</td>\n      <td>offer-0</td>\n      <td>aid_related-1</td>\n      <td>medical_help-0</td>\n      <td>medical_products-1</td>\n      <td>search_and_rescue-0</td>\n      <td>security-0</td>\n      <td>military-0</td>\n      <td>child_alone-0</td>\n      <td>...</td>\n      <td>aid_centers-0</td>\n      <td>other_infrastructure-0</td>\n      <td>weather_related-0</td>\n      <td>floods-0</td>\n      <td>storm-0</td>\n      <td>fire-0</td>\n      <td>earthquake-0</td>\n      <td>cold-0</td>\n      <td>other_weather-0</td>\n      <td>direct_report-0</td>\n    </tr>\n    <tr>\n      <th>4</th>\n      <td>related-1</td>\n      <td>request-0</td>\n      <td>offer-0</td>\n      <td>aid_related-0</td>\n      <td>medical_help-0</td>\n      <td>medical_products-0</td>\n      <td>search_and_rescue-0</td>\n      <td>security-0</td>\n      <td>military-0</td>\n      <td>child_alone-0</td>\n      <td>...</td>\n      <td>aid_centers-0</td>\n      <td>other_infrastructure-0</td>\n      <td>weather_related-0</td>\n      <td>floods-0</td>\n      <td>storm-0</td>\n      <td>fire-0</td>\n      <td>earthquake-0</td>\n      <td>cold-0</td>\n      <td>other_weather-0</td>\n      <td>direct_report-0</td>\n    </tr>\n  </tbody>\n</table>\n<p>5 rows × 36 columns</p>\n</div>"
     },
     "execution_count": 56,
     "metadata": {},
     "output_type": "execute_result"
    }
   ],
   "source": [
    "# rename the columns of `categories`\n",
    "categories.columns = category_colnames\n",
    "categories.head()"
   ]
  },
  {
   "cell_type": "markdown",
   "metadata": {
    "pycharm": {
     "name": "#%% md\n"
    }
   },
   "source": [
    "### 4. Convert category values to just numbers 0 or 1.\n",
    "- Iterate through the category columns in df to keep only the last character of each string (the 1 or 0). For example, `related-0` becomes `0`, `related-1` becomes `1`. Convert the string to a numeric value.\n",
    "- You can perform [normal string actions on Pandas Series](https://pandas.pydata.org/pandas-docs/stable/text.html#indexing-with-str), like indexing, by including `.str` after the Series. You may need to first convert the Series to be of type string, which you can do with `astype(str)`."
   ]
  },
  {
   "cell_type": "code",
   "execution_count": 57,
   "metadata": {
    "pycharm": {
     "name": "#%%\n"
    }
   },
   "outputs": [
    {
     "name": "stderr",
     "output_type": "stream",
     "text": [
      "C:\\Users\\sisaurav\\AppData\\Local\\Temp\\ipykernel_30084\\474567858.py:6: DeprecationWarning: `np.int` is a deprecated alias for the builtin `int`. To silence this warning, use `int` by itself. Doing this will not modify any behavior and is safe. When replacing `np.int`, you may wish to use e.g. `np.int64` or `np.int32` to specify the precision. If you wish to review your current use, check the release note link for additional information.\n",
      "Deprecated in NumPy 1.20; for more details and guidance: https://numpy.org/devdocs/release/1.20.0-notes.html#deprecations\n",
      "  categories[column] = categories[column].astype(np.int)\n"
     ]
    },
    {
     "data": {
      "text/plain": "0  related  request  offer  aid_related  medical_help  medical_products  \\\n0        1        0      0            0             0                 0   \n1        1        0      0            1             0                 0   \n2        1        0      0            0             0                 0   \n3        1        1      0            1             0                 1   \n4        1        0      0            0             0                 0   \n\n0  search_and_rescue  security  military  child_alone  ...  aid_centers  \\\n0                  0         0         0            0  ...            0   \n1                  0         0         0            0  ...            0   \n2                  0         0         0            0  ...            0   \n3                  0         0         0            0  ...            0   \n4                  0         0         0            0  ...            0   \n\n0  other_infrastructure  weather_related  floods  storm  fire  earthquake  \\\n0                     0                0       0      0     0           0   \n1                     0                1       0      1     0           0   \n2                     0                0       0      0     0           0   \n3                     0                0       0      0     0           0   \n4                     0                0       0      0     0           0   \n\n0  cold  other_weather  direct_report  \n0     0              0              0  \n1     0              0              0  \n2     0              0              0  \n3     0              0              0  \n4     0              0              0  \n\n[5 rows x 36 columns]",
      "text/html": "<div>\n<style scoped>\n    .dataframe tbody tr th:only-of-type {\n        vertical-align: middle;\n    }\n\n    .dataframe tbody tr th {\n        vertical-align: top;\n    }\n\n    .dataframe thead th {\n        text-align: right;\n    }\n</style>\n<table border=\"1\" class=\"dataframe\">\n  <thead>\n    <tr style=\"text-align: right;\">\n      <th></th>\n      <th>related</th>\n      <th>request</th>\n      <th>offer</th>\n      <th>aid_related</th>\n      <th>medical_help</th>\n      <th>medical_products</th>\n      <th>search_and_rescue</th>\n      <th>security</th>\n      <th>military</th>\n      <th>child_alone</th>\n      <th>...</th>\n      <th>aid_centers</th>\n      <th>other_infrastructure</th>\n      <th>weather_related</th>\n      <th>floods</th>\n      <th>storm</th>\n      <th>fire</th>\n      <th>earthquake</th>\n      <th>cold</th>\n      <th>other_weather</th>\n      <th>direct_report</th>\n    </tr>\n  </thead>\n  <tbody>\n    <tr>\n      <th>0</th>\n      <td>1</td>\n      <td>0</td>\n      <td>0</td>\n      <td>0</td>\n      <td>0</td>\n      <td>0</td>\n      <td>0</td>\n      <td>0</td>\n      <td>0</td>\n      <td>0</td>\n      <td>...</td>\n      <td>0</td>\n      <td>0</td>\n      <td>0</td>\n      <td>0</td>\n      <td>0</td>\n      <td>0</td>\n      <td>0</td>\n      <td>0</td>\n      <td>0</td>\n      <td>0</td>\n    </tr>\n    <tr>\n      <th>1</th>\n      <td>1</td>\n      <td>0</td>\n      <td>0</td>\n      <td>1</td>\n      <td>0</td>\n      <td>0</td>\n      <td>0</td>\n      <td>0</td>\n      <td>0</td>\n      <td>0</td>\n      <td>...</td>\n      <td>0</td>\n      <td>0</td>\n      <td>1</td>\n      <td>0</td>\n      <td>1</td>\n      <td>0</td>\n      <td>0</td>\n      <td>0</td>\n      <td>0</td>\n      <td>0</td>\n    </tr>\n    <tr>\n      <th>2</th>\n      <td>1</td>\n      <td>0</td>\n      <td>0</td>\n      <td>0</td>\n      <td>0</td>\n      <td>0</td>\n      <td>0</td>\n      <td>0</td>\n      <td>0</td>\n      <td>0</td>\n      <td>...</td>\n      <td>0</td>\n      <td>0</td>\n      <td>0</td>\n      <td>0</td>\n      <td>0</td>\n      <td>0</td>\n      <td>0</td>\n      <td>0</td>\n      <td>0</td>\n      <td>0</td>\n    </tr>\n    <tr>\n      <th>3</th>\n      <td>1</td>\n      <td>1</td>\n      <td>0</td>\n      <td>1</td>\n      <td>0</td>\n      <td>1</td>\n      <td>0</td>\n      <td>0</td>\n      <td>0</td>\n      <td>0</td>\n      <td>...</td>\n      <td>0</td>\n      <td>0</td>\n      <td>0</td>\n      <td>0</td>\n      <td>0</td>\n      <td>0</td>\n      <td>0</td>\n      <td>0</td>\n      <td>0</td>\n      <td>0</td>\n    </tr>\n    <tr>\n      <th>4</th>\n      <td>1</td>\n      <td>0</td>\n      <td>0</td>\n      <td>0</td>\n      <td>0</td>\n      <td>0</td>\n      <td>0</td>\n      <td>0</td>\n      <td>0</td>\n      <td>0</td>\n      <td>...</td>\n      <td>0</td>\n      <td>0</td>\n      <td>0</td>\n      <td>0</td>\n      <td>0</td>\n      <td>0</td>\n      <td>0</td>\n      <td>0</td>\n      <td>0</td>\n      <td>0</td>\n    </tr>\n  </tbody>\n</table>\n<p>5 rows × 36 columns</p>\n</div>"
     },
     "execution_count": 57,
     "metadata": {},
     "output_type": "execute_result"
    }
   ],
   "source": [
    "for column in categories:\n",
    "    # set each value to be the last character of the string\n",
    "    categories[column] = categories[column].str[-1]\n",
    "    \n",
    "    # convert column from string to numeric\n",
    "    categories[column] = categories[column].astype(np.int)\n",
    "categories.head()"
   ]
  },
  {
   "cell_type": "markdown",
   "metadata": {
    "pycharm": {
     "name": "#%% md\n"
    }
   },
   "source": [
    "### 5. Replace `categories` column in `df` with new category columns.\n",
    "- Drop the categories column from the df dataframe since it is no longer needed.\n",
    "- Concatenate df and categories data frames."
   ]
  },
  {
   "cell_type": "code",
   "execution_count": 58,
   "metadata": {
    "pycharm": {
     "name": "#%%\n"
    }
   },
   "outputs": [
    {
     "data": {
      "text/plain": "   id                                            message  \\\n0   2  Weather update - a cold front from Cuba that c...   \n1   7            Is the Hurricane over or is it not over   \n2   8                    Looking for someone but no name   \n3   9  UN reports Leogane 80-90 destroyed. Only Hospi...   \n4  12  says: west side of Haiti, rest of the country ...   \n\n                                            original   genre  \n0  Un front froid se retrouve sur Cuba ce matin. ...  direct  \n1                 Cyclone nan fini osinon li pa fini  direct  \n2  Patnm, di Maryani relem pou li banm nouvel li ...  direct  \n3  UN reports Leogane 80-90 destroyed. Only Hospi...  direct  \n4  facade ouest d Haiti et le reste du pays aujou...  direct  ",
      "text/html": "<div>\n<style scoped>\n    .dataframe tbody tr th:only-of-type {\n        vertical-align: middle;\n    }\n\n    .dataframe tbody tr th {\n        vertical-align: top;\n    }\n\n    .dataframe thead th {\n        text-align: right;\n    }\n</style>\n<table border=\"1\" class=\"dataframe\">\n  <thead>\n    <tr style=\"text-align: right;\">\n      <th></th>\n      <th>id</th>\n      <th>message</th>\n      <th>original</th>\n      <th>genre</th>\n    </tr>\n  </thead>\n  <tbody>\n    <tr>\n      <th>0</th>\n      <td>2</td>\n      <td>Weather update - a cold front from Cuba that c...</td>\n      <td>Un front froid se retrouve sur Cuba ce matin. ...</td>\n      <td>direct</td>\n    </tr>\n    <tr>\n      <th>1</th>\n      <td>7</td>\n      <td>Is the Hurricane over or is it not over</td>\n      <td>Cyclone nan fini osinon li pa fini</td>\n      <td>direct</td>\n    </tr>\n    <tr>\n      <th>2</th>\n      <td>8</td>\n      <td>Looking for someone but no name</td>\n      <td>Patnm, di Maryani relem pou li banm nouvel li ...</td>\n      <td>direct</td>\n    </tr>\n    <tr>\n      <th>3</th>\n      <td>9</td>\n      <td>UN reports Leogane 80-90 destroyed. Only Hospi...</td>\n      <td>UN reports Leogane 80-90 destroyed. Only Hospi...</td>\n      <td>direct</td>\n    </tr>\n    <tr>\n      <th>4</th>\n      <td>12</td>\n      <td>says: west side of Haiti, rest of the country ...</td>\n      <td>facade ouest d Haiti et le reste du pays aujou...</td>\n      <td>direct</td>\n    </tr>\n  </tbody>\n</table>\n</div>"
     },
     "execution_count": 58,
     "metadata": {},
     "output_type": "execute_result"
    }
   ],
   "source": [
    "# drop the original categories column from `df`\n",
    "df = df.drop('categories',axis=1)\n",
    "\n",
    "df.head()"
   ]
  },
  {
   "cell_type": "code",
   "execution_count": 59,
   "metadata": {
    "pycharm": {
     "name": "#%%\n"
    }
   },
   "outputs": [
    {
     "data": {
      "text/plain": "   id                                            message  \\\n0   2  Weather update - a cold front from Cuba that c...   \n1   7            Is the Hurricane over or is it not over   \n2   8                    Looking for someone but no name   \n3   9  UN reports Leogane 80-90 destroyed. Only Hospi...   \n4  12  says: west side of Haiti, rest of the country ...   \n\n                                            original   genre  related  \\\n0  Un front froid se retrouve sur Cuba ce matin. ...  direct        1   \n1                 Cyclone nan fini osinon li pa fini  direct        1   \n2  Patnm, di Maryani relem pou li banm nouvel li ...  direct        1   \n3  UN reports Leogane 80-90 destroyed. Only Hospi...  direct        1   \n4  facade ouest d Haiti et le reste du pays aujou...  direct        1   \n\n   request  offer  aid_related  medical_help  medical_products  ...  \\\n0        0      0            0             0                 0  ...   \n1        0      0            1             0                 0  ...   \n2        0      0            0             0                 0  ...   \n3        1      0            1             0                 1  ...   \n4        0      0            0             0                 0  ...   \n\n   aid_centers  other_infrastructure  weather_related  floods  storm  fire  \\\n0            0                     0                0       0      0     0   \n1            0                     0                1       0      1     0   \n2            0                     0                0       0      0     0   \n3            0                     0                0       0      0     0   \n4            0                     0                0       0      0     0   \n\n   earthquake  cold  other_weather  direct_report  \n0           0     0              0              0  \n1           0     0              0              0  \n2           0     0              0              0  \n3           0     0              0              0  \n4           0     0              0              0  \n\n[5 rows x 40 columns]",
      "text/html": "<div>\n<style scoped>\n    .dataframe tbody tr th:only-of-type {\n        vertical-align: middle;\n    }\n\n    .dataframe tbody tr th {\n        vertical-align: top;\n    }\n\n    .dataframe thead th {\n        text-align: right;\n    }\n</style>\n<table border=\"1\" class=\"dataframe\">\n  <thead>\n    <tr style=\"text-align: right;\">\n      <th></th>\n      <th>id</th>\n      <th>message</th>\n      <th>original</th>\n      <th>genre</th>\n      <th>related</th>\n      <th>request</th>\n      <th>offer</th>\n      <th>aid_related</th>\n      <th>medical_help</th>\n      <th>medical_products</th>\n      <th>...</th>\n      <th>aid_centers</th>\n      <th>other_infrastructure</th>\n      <th>weather_related</th>\n      <th>floods</th>\n      <th>storm</th>\n      <th>fire</th>\n      <th>earthquake</th>\n      <th>cold</th>\n      <th>other_weather</th>\n      <th>direct_report</th>\n    </tr>\n  </thead>\n  <tbody>\n    <tr>\n      <th>0</th>\n      <td>2</td>\n      <td>Weather update - a cold front from Cuba that c...</td>\n      <td>Un front froid se retrouve sur Cuba ce matin. ...</td>\n      <td>direct</td>\n      <td>1</td>\n      <td>0</td>\n      <td>0</td>\n      <td>0</td>\n      <td>0</td>\n      <td>0</td>\n      <td>...</td>\n      <td>0</td>\n      <td>0</td>\n      <td>0</td>\n      <td>0</td>\n      <td>0</td>\n      <td>0</td>\n      <td>0</td>\n      <td>0</td>\n      <td>0</td>\n      <td>0</td>\n    </tr>\n    <tr>\n      <th>1</th>\n      <td>7</td>\n      <td>Is the Hurricane over or is it not over</td>\n      <td>Cyclone nan fini osinon li pa fini</td>\n      <td>direct</td>\n      <td>1</td>\n      <td>0</td>\n      <td>0</td>\n      <td>1</td>\n      <td>0</td>\n      <td>0</td>\n      <td>...</td>\n      <td>0</td>\n      <td>0</td>\n      <td>1</td>\n      <td>0</td>\n      <td>1</td>\n      <td>0</td>\n      <td>0</td>\n      <td>0</td>\n      <td>0</td>\n      <td>0</td>\n    </tr>\n    <tr>\n      <th>2</th>\n      <td>8</td>\n      <td>Looking for someone but no name</td>\n      <td>Patnm, di Maryani relem pou li banm nouvel li ...</td>\n      <td>direct</td>\n      <td>1</td>\n      <td>0</td>\n      <td>0</td>\n      <td>0</td>\n      <td>0</td>\n      <td>0</td>\n      <td>...</td>\n      <td>0</td>\n      <td>0</td>\n      <td>0</td>\n      <td>0</td>\n      <td>0</td>\n      <td>0</td>\n      <td>0</td>\n      <td>0</td>\n      <td>0</td>\n      <td>0</td>\n    </tr>\n    <tr>\n      <th>3</th>\n      <td>9</td>\n      <td>UN reports Leogane 80-90 destroyed. Only Hospi...</td>\n      <td>UN reports Leogane 80-90 destroyed. Only Hospi...</td>\n      <td>direct</td>\n      <td>1</td>\n      <td>1</td>\n      <td>0</td>\n      <td>1</td>\n      <td>0</td>\n      <td>1</td>\n      <td>...</td>\n      <td>0</td>\n      <td>0</td>\n      <td>0</td>\n      <td>0</td>\n      <td>0</td>\n      <td>0</td>\n      <td>0</td>\n      <td>0</td>\n      <td>0</td>\n      <td>0</td>\n    </tr>\n    <tr>\n      <th>4</th>\n      <td>12</td>\n      <td>says: west side of Haiti, rest of the country ...</td>\n      <td>facade ouest d Haiti et le reste du pays aujou...</td>\n      <td>direct</td>\n      <td>1</td>\n      <td>0</td>\n      <td>0</td>\n      <td>0</td>\n      <td>0</td>\n      <td>0</td>\n      <td>...</td>\n      <td>0</td>\n      <td>0</td>\n      <td>0</td>\n      <td>0</td>\n      <td>0</td>\n      <td>0</td>\n      <td>0</td>\n      <td>0</td>\n      <td>0</td>\n      <td>0</td>\n    </tr>\n  </tbody>\n</table>\n<p>5 rows × 40 columns</p>\n</div>"
     },
     "execution_count": 59,
     "metadata": {},
     "output_type": "execute_result"
    }
   ],
   "source": [
    "# concatenate the original dataframe with the new `categories` dataframe\n",
    "df = pd.concat([df,categories],axis=1)\n",
    "df.head()"
   ]
  },
  {
   "cell_type": "markdown",
   "metadata": {
    "pycharm": {
     "name": "#%% md\n"
    }
   },
   "source": [
    "### 6. Remove duplicates.\n",
    "- Check how many duplicates are in this dataset.\n",
    "- Drop the duplicates.\n",
    "- Confirm duplicates were removed."
   ]
  },
  {
   "cell_type": "code",
   "execution_count": 60,
   "metadata": {
    "pycharm": {
     "name": "#%%\n"
    }
   },
   "outputs": [
    {
     "name": "stdout",
     "output_type": "stream",
     "text": [
      "Number of duplicated rows: 170 out of 26386 samples\n"
     ]
    }
   ],
   "source": [
    "# check number of duplicates\n",
    "print('Number of duplicated rows: {} out of {} samples'.format(df.duplicated().sum(),df.shape[0]))"
   ]
  },
  {
   "cell_type": "code",
   "execution_count": 61,
   "metadata": {
    "pycharm": {
     "name": "#%%\n"
    }
   },
   "outputs": [],
   "source": [
    "# drop duplicates\n",
    "df = df.drop_duplicates()"
   ]
  },
  {
   "cell_type": "code",
   "execution_count": 62,
   "metadata": {
    "pycharm": {
     "name": "#%%\n"
    }
   },
   "outputs": [
    {
     "name": "stdout",
     "output_type": "stream",
     "text": [
      "Number of duplicated rows: 0 out of 26216 samples\n"
     ]
    }
   ],
   "source": [
    "# check number of duplicates\n",
    "print('Number of duplicated rows: {} out of {} samples'.format(df.duplicated().sum(),df.shape[0]))"
   ]
  },
  {
   "cell_type": "markdown",
   "metadata": {
    "pycharm": {
     "name": "#%% md\n"
    }
   },
   "source": [
    "### 8. Save the clean dataset into an sqlite database.\n",
    "You can do this with pandas [`to_sql` method](https://pandas.pydata.org/pandas-docs/stable/generated/pandas.DataFrame.to_sql.html) combined with the SQLAlchemy library. Remember to import SQLAlchemy's `create_engine` in the first cell of this notebook to use it below."
   ]
  },
  {
   "cell_type": "code",
   "execution_count": 63,
   "metadata": {
    "pycharm": {
     "name": "#%%\n"
    }
   },
   "outputs": [
    {
     "data": {
      "text/plain": "26216"
     },
     "execution_count": 63,
     "metadata": {},
     "output_type": "execute_result"
    }
   ],
   "source": [
    "engine = create_engine('sqlite:///DisasterResponse.db')\n",
    "df.to_sql('df', engine, index=False, if_exists='replace')"
   ]
  },
  {
   "cell_type": "markdown",
   "metadata": {
    "pycharm": {
     "name": "#%% md\n"
    }
   },
   "source": [
    "### 9. Use this notebook to complete `etl_pipeline.py`\n",
    "Use the template file attached in the Resources folder to write a script that runs the steps above to create a database based on new datasets specified by the user. Alternatively, you can complete `etl_pipeline.py` in the classroom on the `Project Workspace IDE` coming later."
   ]
  },
  {
   "cell_type": "code",
   "execution_count": 63,
   "metadata": {
    "pycharm": {
     "name": "#%%\n"
    }
   },
   "outputs": [],
   "source": []
  }
 ],
 "metadata": {
  "kernelspec": {
   "display_name": "Python 3",
   "language": "python",
   "name": "python3"
  },
  "language_info": {
   "codemirror_mode": {
    "name": "ipython",
    "version": 3
   },
   "file_extension": ".py",
   "mimetype": "text/x-python",
   "name": "python",
   "nbconvert_exporter": "python",
   "pygments_lexer": "ipython3",
   "version": "3.6.5"
  }
 },
 "nbformat": 4,
 "nbformat_minor": 2
}